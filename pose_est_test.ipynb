{
 "cells": [
  {
   "cell_type": "markdown",
   "id": "af224198",
   "metadata": {},
   "source": [
    "# pose estimation & find person location side "
   ]
  },
  {
   "cell_type": "code",
   "execution_count": 5,
   "id": "95c706e5",
   "metadata": {
    "scrolled": true
   },
   "outputs": [
    {
     "name": "stdout",
     "output_type": "stream",
     "text": [
      "im1.jpg\n",
      "left big toe [186.71107482910156, 1006.038330078125]\n",
      "right big toe [168.10154724121094, 1061.866943359375]\n",
      "\n",
      "toe defferance on X 18.609527587890625\n",
      "toe defferance on Y -55.82861328125\n",
      "toe distance on C 58.84852230899113\n",
      "\n",
      "im2.jpg\n",
      "left big toe [329.3376159667969, 1623.956787109375]\n",
      "right big toe [377.7659912109375, 1696.599365234375]\n",
      "\n",
      "toe defferance on X -48.428375244140625\n",
      "toe defferance on Y -72.642578125\n",
      "toe distance on C 87.3055077611603\n",
      "\n",
      "im3.jpg\n",
      "left big toe [346.80157470703125, 1084.8817138671875]\n",
      "right big toe [294.45025634765625, 1113.0709228515625]\n",
      "\n",
      "toe defferance on X 52.351318359375\n",
      "toe defferance on Y -28.189208984375\n",
      "toe distance on C 59.45832184925338\n",
      "\n"
     ]
    }
   ],
   "source": [
    "import json\n",
    "import math\n",
    "file = \"./data/txt/alphapose-results.json\"\n",
    "\n",
    "big_toe = []\n",
    "with open(file, \"r\") as f: \n",
    "    json_f = json.load(f)\n",
    "    for i in (json_f):\n",
    "        print(i[\"image_id\"])\n",
    "        print(\"left big toe\", i[\"keypoints\"][60:62])\n",
    "        print(\"right big toe\", i[\"keypoints\"][63:65])\n",
    "        big_toe.append([i[\"keypoints\"][60:62], i[\"keypoints\"][63:65]])\n",
    "        print('')\n",
    "\n",
    "        toe_difx = i[\"keypoints\"][60] - i[\"keypoints\"][63]\n",
    "        print('toe defferance on X', toe_difx)\n",
    "        toe_dify = i[\"keypoints\"][61] - i[\"keypoints\"][64]\n",
    "        print('toe defferance on Y', toe_dify)\n",
    "        toe_c = math.sqrt(toe_difx**2+toe_dify**2)\n",
    "        print('toe distance on C', toe_c)\n",
    "        print('')\n"
   ]
  },
  {
   "cell_type": "code",
   "execution_count": null,
   "id": "deb14b4f",
   "metadata": {},
   "outputs": [],
   "source": []
  },
  {
   "cell_type": "code",
   "execution_count": 7,
   "id": "106cbc9c",
   "metadata": {},
   "outputs": [
    {
     "name": "stdout",
     "output_type": "stream",
     "text": [
      "im2.jpg\n",
      "left big toe [394.5544738769531, 1318.68408203125]\n",
      "right big toe [390.0595397949219, 1354.6435546875]\n",
      ".....................\n",
      "toe defferance on X 4.49493408203125\n",
      "defferance on X 8.9898681640625\n",
      "defferance on Y -112.3734130859375\n",
      " distance on C 112.73243410035097\n",
      "........................\n",
      "real toe dif  3.987258962252156\n",
      "\n",
      "im3.jpg\n",
      "left big toe [341.41644287109375, 1056.7891845703125]\n",
      "right big toe [288.1179504394531, 1083.4384765625]\n",
      ".....................\n",
      "toe defferance on X 53.298492431640625\n",
      "defferance on X 19.035186767578125\n",
      "defferance on Y -98.98297119140625\n",
      " distance on C 100.79666125996108\n",
      "........................\n",
      "real toe dif  52.87723994565691\n",
      "\n",
      "im4.jpg\n",
      "left big toe [452.6906433105469, 1423.095458984375]\n",
      "right big toe [398.9397888183594, 1452.95703125]\n",
      ".....................\n",
      "toe defferance on X 53.7508544921875\n",
      "defferance on X 35.833892822265625\n",
      "defferance on Y -143.335693359375\n",
      " distance on C 147.74704350886483\n",
      "........................\n",
      "real toe dif  36.38032492268615\n",
      "\n",
      "im5.jpg\n",
      "left big toe [359.27587890625, 1583.4158935546875]\n",
      "right big toe [326.5206298828125, 1635.8243408203125]\n",
      ".....................\n",
      "toe defferance on X 32.7552490234375\n",
      "defferance on X 32.75529479980469\n",
      "defferance on Y -170.327392578125\n",
      " distance on C 173.44834966030902\n",
      "........................\n",
      "real toe dif  18.884727982472715\n",
      "\n",
      "im6.jpg\n",
      "left big toe [318.3521728515625, 1579.712158203125]\n",
      "right big toe [352.2527160644531, 1664.4635009765625]\n",
      ".....................\n",
      "toe defferance on X -33.900543212890625\n",
      "defferance on X 25.4254150390625\n",
      "defferance on Y -211.87841796875\n",
      " distance on C 213.39849046056747\n",
      "........................\n",
      "real toe dif  -15.886027656392859\n",
      "\n",
      "im7.jpg\n",
      "left big toe [362.5392761230469, 1450.1962890625]\n",
      "right big toe [342.52825927734375, 1503.55908203125]\n",
      ".....................\n",
      "toe defferance on X 20.011016845703125\n",
      "defferance on X 20.011016845703125\n",
      "defferance on Y -166.7584228515625\n",
      " distance on C 167.9547926888052\n",
      "........................\n",
      "real toe dif  11.914525644278879\n",
      "\n"
     ]
    }
   ],
   "source": [
    "import json\n",
    "import math\n",
    "file = \"./data/res/alphapose-results.json\" #./data/txt/alphapose-results.json\"\n",
    "\n",
    "knee_ankle = []\n",
    "with open(file, \"r\") as f: \n",
    "    json_f = json.load(f)\n",
    "    for i in (json_f):\n",
    "        print(i[\"image_id\"])\n",
    "        print(\"left big toe\", i[\"keypoints\"][60:62])\n",
    "        print(\"right big toe\", i[\"keypoints\"][63:65])\n",
    "        print('.....................')\n",
    "        \n",
    "        toe_difx = i[\"keypoints\"][60] - i[\"keypoints\"][63]\n",
    "        print('toe defferance on X', toe_difx)\n",
    "        \n",
    "        difx = i[\"keypoints\"][42] - i[\"keypoints\"][48] # kneeX - ankleX \n",
    "        print('defferance on X', difx)\n",
    "        dify = i[\"keypoints\"][43] - i[\"keypoints\"][49] # kneeY - ankleY \n",
    "        print('defferance on Y', dify)\n",
    "        dif_c = math.sqrt(difx**2+dify**2)\n",
    "        print(' distance on C', dif_c)\n",
    "        print('........................')\n",
    "        \n",
    "        \n",
    "        org = 100\n",
    "        ratio = org/dif_c\n",
    "        real_toe_difx = toe_difx * ratio\n",
    "        print('real toe dif ', real_toe_difx)\n",
    "        print('')\n",
    "        \n",
    "        knee_ankle.append([i[\"keypoints\"][60:62], i[\"keypoints\"][62:64], [dif_c], [toe_difx]])\n"
   ]
  },
  {
   "cell_type": "code",
   "execution_count": 5,
   "id": "60f48ff2",
   "metadata": {},
   "outputs": [
    {
     "name": "stdout",
     "output_type": "stream",
     "text": [
      "ratio 3.5460992907801416\n",
      "real dist  656.0283687943262\n"
     ]
    }
   ],
   "source": [
    "org = 500\n",
    "c = 141\n",
    "x_dif = 185\n",
    "ra = org / c\n",
    "print('ratio', ra)\n",
    "\n",
    "real = x_dif*ra\n",
    "print('real dist ', real)\n"
   ]
  },
  {
   "cell_type": "code",
   "execution_count": null,
   "id": "2c262de7",
   "metadata": {},
   "outputs": [],
   "source": []
  },
  {
   "cell_type": "code",
   "execution_count": null,
   "id": "3a41e8d6",
   "metadata": {},
   "outputs": [],
   "source": []
  },
  {
   "cell_type": "code",
   "execution_count": 21,
   "id": "04a67359",
   "metadata": {},
   "outputs": [
    {
     "data": {
      "text/plain": [
       "[186.71107482910156, 1006.038330078125]"
      ]
     },
     "execution_count": 21,
     "metadata": {},
     "output_type": "execute_result"
    }
   ],
   "source": [
    "json_f[0][\"keypoints\"][60:62]"
   ]
  },
  {
   "cell_type": "code",
   "execution_count": 31,
   "id": "b133ddd3",
   "metadata": {},
   "outputs": [
    {
     "data": {
      "text/plain": [
       "185.79650551080704"
      ]
     },
     "execution_count": 31,
     "metadata": {},
     "output_type": "execute_result"
    }
   ],
   "source": [
    "big_toe[0][0][0]-big_toe[0][1][0]"
   ]
  },
  {
   "cell_type": "code",
   "execution_count": 28,
   "id": "e0b9758b",
   "metadata": {},
   "outputs": [
    {
     "data": {
      "text/plain": [
       "[[186.71107482910156, 1006.038330078125],\n",
       " [0.9145693182945251, 168.10154724121094]]"
      ]
     },
     "execution_count": 28,
     "metadata": {},
     "output_type": "execute_result"
    }
   ],
   "source": [
    "big_toe[0]"
   ]
  },
  {
   "cell_type": "code",
   "execution_count": 27,
   "id": "53c4c288",
   "metadata": {},
   "outputs": [
    {
     "data": {
      "text/plain": [
       "[186.71107482910156, 1006.038330078125]"
      ]
     },
     "execution_count": 27,
     "metadata": {},
     "output_type": "execute_result"
    }
   ],
   "source": [
    "big_toe[0][0]"
   ]
  },
  {
   "cell_type": "code",
   "execution_count": 29,
   "id": "a036304b",
   "metadata": {},
   "outputs": [
    {
     "data": {
      "text/plain": [
       "[[[186.71107482910156, 1006.038330078125],\n",
       "  [0.9145693182945251, 168.10154724121094]],\n",
       " [[329.3376159667969, 1623.956787109375],\n",
       "  [0.9451612830162048, 377.7659912109375]],\n",
       " [[346.80157470703125, 1084.8817138671875],\n",
       "  [0.8327558040618896, 294.45025634765625]]]"
      ]
     },
     "execution_count": 29,
     "metadata": {},
     "output_type": "execute_result"
    }
   ],
   "source": [
    "big_toe"
   ]
  },
  {
   "cell_type": "code",
   "execution_count": null,
   "id": "a19f45b4",
   "metadata": {},
   "outputs": [],
   "source": []
  }
 ],
 "metadata": {
  "kernelspec": {
   "display_name": "Python 3.10.4 ('label')",
   "language": "python",
   "name": "python3"
  },
  "language_info": {
   "codemirror_mode": {
    "name": "ipython",
    "version": 3
   },
   "file_extension": ".py",
   "mimetype": "text/x-python",
   "name": "python",
   "nbconvert_exporter": "python",
   "pygments_lexer": "ipython3",
   "version": "3.10.4"
  },
  "vscode": {
   "interpreter": {
    "hash": "cb8a95a58a3a187ab9c4364ddd8aefcc1775bcaa833d347732917a9c172055e9"
   }
  }
 },
 "nbformat": 4,
 "nbformat_minor": 5
}
