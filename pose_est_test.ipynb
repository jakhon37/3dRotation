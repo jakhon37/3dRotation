{
 "cells": [
  {
   "cell_type": "markdown",
   "id": "af224198",
   "metadata": {},
   "source": [
    "# pose estimation & find person location side "
   ]
  },
  {
   "cell_type": "code",
   "execution_count": 5,
   "id": "95c706e5",
   "metadata": {
    "scrolled": true
   },
   "outputs": [
    {
     "name": "stdout",
     "output_type": "stream",
     "text": [
      "im1.jpg\n",
      "left big toe [186.71107482910156, 1006.038330078125]\n",
      "right big toe [168.10154724121094, 1061.866943359375]\n",
      "\n",
      "toe defferance on X 18.609527587890625\n",
      "toe defferance on Y -55.82861328125\n",
      "toe distance on C 58.84852230899113\n",
      "\n",
      "im2.jpg\n",
      "left big toe [329.3376159667969, 1623.956787109375]\n",
      "right big toe [377.7659912109375, 1696.599365234375]\n",
      "\n",
      "toe defferance on X -48.428375244140625\n",
      "toe defferance on Y -72.642578125\n",
      "toe distance on C 87.3055077611603\n",
      "\n",
      "im3.jpg\n",
      "left big toe [346.80157470703125, 1084.8817138671875]\n",
      "right big toe [294.45025634765625, 1113.0709228515625]\n",
      "\n",
      "toe defferance on X 52.351318359375\n",
      "toe defferance on Y -28.189208984375\n",
      "toe distance on C 59.45832184925338\n",
      "\n"
     ]
    }
   ],
   "source": [
    "import json\n",
    "import math\n",
    "file = \"./data/txt/alphapose-results.json\"\n",
    "\n",
    "big_toe = []\n",
    "with open(file, \"r\") as f: \n",
    "    json_f = json.load(f)\n",
    "    for i in (json_f):\n",
    "        print(i[\"image_id\"])\n",
    "        print(\"left big toe\", i[\"keypoints\"][60:62])\n",
    "        print(\"right big toe\", i[\"keypoints\"][63:65])\n",
    "        big_toe.append([i[\"keypoints\"][60:62], i[\"keypoints\"][63:65]])\n",
    "        print('')\n",
    "\n",
    "        toe_difx = i[\"keypoints\"][60] - i[\"keypoints\"][63]\n",
    "        print('toe defferance on X', toe_difx)\n",
    "        toe_dify = i[\"keypoints\"][61] - i[\"keypoints\"][64]\n",
    "        print('toe defferance on Y', toe_dify)\n",
    "        toe_c = math.sqrt(toe_difx**2+toe_dify**2)\n",
    "        print('toe distance on C', toe_c)\n",
    "        print('')\n"
   ]
  },
  {
   "cell_type": "code",
   "execution_count": null,
   "id": "deb14b4f",
   "metadata": {},
   "outputs": [],
   "source": []
  },
  {
   "cell_type": "code",
   "execution_count": 61,
   "id": "106cbc9c",
   "metadata": {},
   "outputs": [
    {
     "name": "stdout",
     "output_type": "stream",
     "text": [
      "im2.jpg\n",
      "left big toe [394.5544738769531, 1318.68408203125]\n",
      "right big toe [390.0595397949219, 1354.6435546875]\n",
      "left ankle [349.6051330566406, 1314.189208984375]\n",
      "right ankle [340.6152648925781, 1341.1588134765625]\n",
      ".....................\n",
      "middle point -  345.1101989746094\n",
      "toe defferance on X 4.49493408203125\n",
      "toe defferance on Y 35.95947265625\n",
      "angle perpendicular to dif_x 7.125016348901757\n",
      "toe_y  601.31591796875\n",
      "toe _x  75.16448974609331\n",
      "big tria c  605.9954898523512\n",
      "camera postion on x axise:  465.22402954101517\n",
      "defferance on X 8.9898681640625\n",
      "defferance on Y 112.3734130859375\n",
      "distance on C 112.73243410035097\n",
      "........................\n",
      "real toe dif  3.987258962252156\n",
      "\n",
      "im3.jpg\n",
      "left big toe [341.41644287109375, 1056.7891845703125]\n",
      "right big toe [288.1179504394531, 1083.4384765625]\n",
      "left ankle [295.73199462890625, 1045.3680419921875]\n",
      "right ankle [242.43350219726562, 1068.2103271484375]\n",
      ".....................\n",
      "middle point -  269.08274841308594\n",
      "toe defferance on X 53.298492431640625\n",
      "toe defferance on Y 26.6492919921875\n",
      "angle perpendicular to dif_x 63.43490945532835\n",
      "toe_y  863.2108154296875\n",
      "toe _x  1726.418665328038\n",
      "big tria c  1930.1954097623977\n",
      "camera postion on x axise:  2014.5366157674912\n",
      "defferance on X 19.035186767578125\n",
      "defferance on Y 98.98297119140625\n",
      "distance on C 100.79666125996108\n",
      "........................\n",
      "real toe dif  52.87723994565691\n",
      "\n",
      "im4.jpg\n",
      "left big toe [452.6906433105469, 1423.095458984375]\n",
      "right big toe [398.9397888183594, 1452.95703125]\n",
      "left ankle [398.9397888183594, 1399.2061767578125]\n",
      "right ankle [345.1889343261719, 1429.0677490234375]\n",
      ".....................\n",
      "middle point -  372.0643615722656\n",
      "toe defferance on X 53.7508544921875\n",
      "toe defferance on Y 29.861572265625\n",
      "angle perpendicular to dif_x 60.94540694893154\n",
      "toe_y  496.904541015625\n",
      "toe _x  894.4285800846484\n",
      "big tria c  1023.1894290668708\n",
      "camera postion on x axise:  1293.3683689030076\n",
      "defferance on X 35.833892822265625\n",
      "defferance on Y 143.335693359375\n",
      "distance on C 147.74704350886483\n",
      "........................\n",
      "real toe dif  36.38032492268615\n",
      "\n",
      "im5.jpg\n",
      "left big toe [359.27587890625, 1583.4158935546875]\n",
      "right big toe [326.5206298828125, 1635.8243408203125]\n",
      "left ankle [293.76531982421875, 1557.211669921875]\n",
      "right ankle [254.45899963378906, 1603.0689697265625]\n",
      ".....................\n",
      "middle point -  274.1121597290039\n",
      "toe defferance on X 32.7552490234375\n",
      "toe defferance on Y 52.408447265625\n",
      "angle perpendicular to dif_x 32.005359216357895\n",
      "toe_y  336.5841064453125\n",
      "toe _x  210.3648705345006\n",
      "big tria c  396.91590981791927\n",
      "camera postion on x axise:  536.8855004173131\n",
      "defferance on X 32.75529479980469\n",
      "defferance on Y 170.327392578125\n",
      "distance on C 173.44834966030902\n",
      "........................\n",
      "real toe dif  18.884727982472715\n",
      "\n",
      "im6.jpg\n",
      "left big toe [318.3521728515625, 1579.712158203125]\n",
      "right big toe [352.2527160644531, 1664.4635009765625]\n",
      "left ankle [242.075927734375, 1562.7618408203125]\n",
      "right ankle [267.5013427734375, 1639.0380859375]\n",
      ".....................\n",
      "middle point -  254.78863525390625\n",
      "toe defferance on X -33.900543212890625\n",
      "toe defferance on Y 84.7513427734375\n",
      "angle perpendicular to dif_x 21.80141304346844\n",
      "toe_y  340.287841796875\n",
      "toe _x  136.11516122517185\n",
      "big tria c  366.50123108951425\n",
      "camera postion on x axise:  454.46733407673435\n",
      "defferance on X 25.4254150390625\n",
      "defferance on Y 211.87841796875\n",
      "distance on C 213.39849046056747\n",
      "........................\n",
      "real toe dif  -15.886027656392859\n",
      "\n",
      "im7.jpg\n",
      "left big toe [362.5392761230469, 1450.1962890625]\n",
      "right big toe [342.52825927734375, 1503.55908203125]\n",
      "left ankle [302.5062255859375, 1430.185302734375]\n",
      "right ankle [269.1545104980469, 1483.5479736328125]\n",
      ".....................\n",
      "middle point -  285.8303680419922\n",
      "toe defferance on X 20.011016845703125\n",
      "toe defferance on Y 53.36279296875\n",
      "angle perpendicular to dif_x 20.55601649251294\n",
      "toe_y  469.8037109375\n",
      "toe _x  176.17612292613066\n",
      "big tria c  501.7504888885801\n",
      "camera postion on x axise:  518.7043822034744\n",
      "defferance on X 20.011016845703125\n",
      "defferance on Y 166.7584228515625\n",
      "distance on C 167.9547926888052\n",
      "........................\n",
      "real toe dif  11.914525644278879\n",
      "\n"
     ]
    }
   ],
   "source": [
    "import json\n",
    "import math\n",
    "file = \"./data/res/alphapose-results.json\" #./data/txt/alphapose-results.json\"\n",
    "\n",
    "r_dif_list = []\n",
    "with open(file, \"r\") as f: \n",
    "    json_f = json.load(f)\n",
    "    for i in (json_f):\n",
    "        \n",
    "        # pose infos \n",
    "        print(i[\"image_id\"])\n",
    "        print(\"left big toe\", i[\"keypoints\"][60:62])\n",
    "        print(\"right big toe\", i[\"keypoints\"][63:65])\n",
    "        print(\"left ankle\", i[\"keypoints\"][45:47])\n",
    "        print(\"right ankle\", i[\"keypoints\"][48:50])\n",
    "        print('.....................')\n",
    "    \n",
    "        # person center: calculate middle x point between right and left ankles\n",
    "        av_ank_point = abs(i[\"keypoints\"][48] - i[\"keypoints\"][45]) / 2 + min(i[\"keypoints\"][45],i[\"keypoints\"][48])\n",
    "        print('middle point - ', av_ank_point )\n",
    "        \n",
    "        # calculate angle of big toe\n",
    "        toe_difx = (i[\"keypoints\"][60] - i[\"keypoints\"][63])\n",
    "        print('toe defferance on X', toe_difx)\n",
    "        toe_dify = abs(i[\"keypoints\"][61] - i[\"keypoints\"][64])\n",
    "        print('toe defferance on Y', toe_dify)\n",
    "        dif_c_toe = math.sqrt(toe_difx**2+toe_dify**2)\n",
    "        cosa = (toe_dify**2 + dif_c_toe**2 - toe_difx**2) / (2*toe_dify*dif_c_toe) # cosa = (b**2 + c**2 - a**2) / 2*b*c\n",
    "        anglex = math.acos(cosa)\n",
    "        angle_x = math.degrees(anglex)\n",
    "        print('angle perpendicular to dif_x',angle_x)\n",
    "        \n",
    "        \n",
    "        # camera position: calculate big triangular \n",
    "        im_h, im_w = 1920, 1080\n",
    "        toe_y_high = min(i[\"keypoints\"][61], i[\"keypoints\"][64])\n",
    "        toe_y = im_h - toe_y_high\n",
    "        print('toe_y ', toe_y)\n",
    "        toe_x = math.tan(math.radians(angle_x))*toe_y\n",
    "        print('toe _x ', toe_x)\n",
    "        dif_toe_c = math.sqrt(toe_x**2+toe_y**2)\n",
    "        print('big tria c ', dif_toe_c)\n",
    "        camera_x = min(i[\"keypoints\"][60], i[\"keypoints\"][63])+toe_x\n",
    "        print('camera postion on x axise: ', camera_x)\n",
    "        \n",
    "        \n",
    "        \n",
    "        # calculate distance between right knee and ankle for ratio\n",
    "        difx = abs(i[\"keypoints\"][42] - i[\"keypoints\"][48]) # kneeX - ankleX \n",
    "        print('defferance on X', difx)\n",
    "        dify = abs(i[\"keypoints\"][43] - i[\"keypoints\"][49]) # kneeY - ankleY \n",
    "        print('defferance on Y', dify)\n",
    "        dif_c = math.sqrt(difx**2+dify**2)\n",
    "        print('distance on C', dif_c)\n",
    "        print('........................')\n",
    "        # ratio \n",
    "        org = 100\n",
    "        ratio = org/dif_c\n",
    "        real_toe_difx = toe_difx * ratio\n",
    "        print('real toe dif ', real_toe_difx)\n",
    "        print('')\n",
    "        \n",
    "        r_dif_list.append([ i[\"image_id\"], real_toe_difx, av_ank_point, difx, dify])\n"
   ]
  },
  {
   "cell_type": "code",
   "execution_count": 99,
   "id": "b99d5417",
   "metadata": {},
   "outputs": [
    {
     "name": "stdout",
     "output_type": "stream",
     "text": [
      "12.268694080352782\n"
     ]
    }
   ],
   "source": [
    "angle_l = 35*(35-r_dif_list[1][1])/51\n",
    "if angle_l<0:\n",
    "    angle_l = angle_l*-1\n",
    "print(angle_l)"
   ]
  },
  {
   "cell_type": "code",
   "execution_count": 108,
   "id": "95dbc8f8",
   "metadata": {},
   "outputs": [
    {
     "name": "stdout",
     "output_type": "stream",
     "text": [
      "last line point y  768.0 ball center point y  1054\n",
      "b line on y axise  286.0\n",
      "a line on _x  62.194407153729365\n",
      "last point x,y (598, 768)\n",
      "1728.0\n",
      "start point x,y (389, 1728)\n"
     ]
    }
   ],
   "source": [
    "im_h , im_w = im3_shape[0] , im3_shape[1]\n",
    "scale = 0.40\n",
    "print('last line point y ', im_h*scale, 'ball center point y ', ball_center[0][1])\n",
    "b_line = ball_center[0][1] - im_h*scale\n",
    "print('b line on y axise ', b_line)\n",
    "a_line = math.tan(math.radians(angle_l))*b_line\n",
    "print('a line on _x ', a_line)\n",
    "end_point = (int(ball_center[0][0]+a_line), int(im_h*scale))\n",
    "print('last point x,y', end_point)\n",
    "\n",
    "start_p_y = im_h*0.9\n",
    "print(start_p_y)\n",
    "bs_line = start_p_y - ball_center[0][1]\n",
    "as_line = math.tan(math.radians(angle_l))*bs_line\n",
    "start_point = int(ball_center[0][0]-as_line), int(start_p_y)\n",
    "print('start point x,y', start_point)\n"
   ]
  },
  {
   "cell_type": "code",
   "execution_count": 113,
   "id": "4c2beb54",
   "metadata": {},
   "outputs": [
    {
     "name": "stdout",
     "output_type": "stream",
     "text": [
      "(1920, 1080, 3)\n"
     ]
    },
    {
     "data": {
      "text/plain": [
       "True"
      ]
     },
     "execution_count": 113,
     "metadata": {},
     "output_type": "execute_result"
    }
   ],
   "source": [
    "import cv2\n",
    "path = './data/res/vis/'\n",
    "im3_path = path + r_dif_list[1][0]\n",
    "im3 = cv2.imread(im3_path)\n",
    "im3_shape = im3.shape\n",
    "print(im3_shape)\n",
    "start_point = ball_center = [536, 1054]\n",
    "cv2.line(im3, start_point, end_point, color=(255, 50, 50 ), thickness=3)\n",
    "cv2.imwrite((f'{path}out{r_dif_list[1][0]}'), im3)"
   ]
  },
  {
   "cell_type": "code",
   "execution_count": null,
   "id": "ff7f6aee",
   "metadata": {},
   "outputs": [],
   "source": []
  },
  {
   "cell_type": "code",
   "execution_count": 5,
   "id": "4c98039d",
   "metadata": {},
   "outputs": [],
   "source": [
    "ball_center = [[536, 1054]]\n",
    "bly = ball_center[0][1]"
   ]
  },
  {
   "cell_type": "code",
   "execution_count": 6,
   "id": "bca58452",
   "metadata": {},
   "outputs": [
    {
     "name": "stdout",
     "output_type": "stream",
     "text": [
      "image shape  (1920, 1080, 3)\n",
      "im2.jpg\n",
      ".....................\n",
      "angle found:  21.28325365335636 with dif value  3.987258962252156\n",
      "\n",
      "image shape  (1920, 1080, 3)\n",
      "im3.jpg\n",
      ".....................\n",
      "angle found:  12.268694080352782 with dif value  52.87723994565691\n",
      "\n"
     ]
    },
    {
     "ename": "TypeError",
     "evalue": "'int' object is not subscriptable",
     "output_type": "error",
     "traceback": [
      "\u001b[1;31m---------------------------------------------------------------------------\u001b[0m",
      "\u001b[1;31mTypeError\u001b[0m                                 Traceback (most recent call last)",
      "\u001b[1;32mc:\\Users\\USER\\PROJECT\\3dRotation\\pose_est_test.ipynb Cell 10\u001b[0m in \u001b[0;36m<cell line: 17>\u001b[1;34m()\u001b[0m\n\u001b[0;32m     <a href='vscode-notebook-cell:/c%3A/Users/USER/PROJECT/3dRotation/pose_est_test.ipynb#X31sZmlsZQ%3D%3D?line=52'>53</a>\u001b[0m b_line \u001b[39m=\u001b[39m bly \u001b[39m-\u001b[39m im_h\u001b[39m*\u001b[39mscale\n\u001b[0;32m     <a href='vscode-notebook-cell:/c%3A/Users/USER/PROJECT/3dRotation/pose_est_test.ipynb#X31sZmlsZQ%3D%3D?line=53'>54</a>\u001b[0m a_line \u001b[39m=\u001b[39m math\u001b[39m.\u001b[39mtan(math\u001b[39m.\u001b[39mradians(angle_l))\u001b[39m*\u001b[39mb_line\n\u001b[1;32m---> <a href='vscode-notebook-cell:/c%3A/Users/USER/PROJECT/3dRotation/pose_est_test.ipynb#X31sZmlsZQ%3D%3D?line=54'>55</a>\u001b[0m end_point \u001b[39m=\u001b[39m (\u001b[39mint\u001b[39m(ball_center[\u001b[39m0\u001b[39;49m][\u001b[39m0\u001b[39;49m]\u001b[39m+\u001b[39ma_line), \u001b[39mint\u001b[39m(im_h\u001b[39m*\u001b[39mscale)) \u001b[39m# x, y end points \u001b[39;00m\n\u001b[0;32m     <a href='vscode-notebook-cell:/c%3A/Users/USER/PROJECT/3dRotation/pose_est_test.ipynb#X31sZmlsZQ%3D%3D?line=56'>57</a>\u001b[0m start_p_y \u001b[39m=\u001b[39m im_h\u001b[39m*\u001b[39m\u001b[39m0.9\u001b[39m \u001b[39m# used to set start y point by scaling \u001b[39;00m\n\u001b[0;32m     <a href='vscode-notebook-cell:/c%3A/Users/USER/PROJECT/3dRotation/pose_est_test.ipynb#X31sZmlsZQ%3D%3D?line=57'>58</a>\u001b[0m \u001b[39m# start_p_y = (im_h - ball_center[0][1])*scale+ball_center[0][1]\u001b[39;00m\n\u001b[0;32m     <a href='vscode-notebook-cell:/c%3A/Users/USER/PROJECT/3dRotation/pose_est_test.ipynb#X31sZmlsZQ%3D%3D?line=58'>59</a>\u001b[0m \u001b[39m# find x start point \u001b[39;00m\n",
      "\u001b[1;31mTypeError\u001b[0m: 'int' object is not subscriptable"
     ]
    }
   ],
   "source": [
    "import json\n",
    "import math\n",
    "import cv2\n",
    "import os \n",
    "file = \"./data/res/alphapose-results.json\" #./data/txt/alphapose-results.json\"\n",
    "path = './data/res/vis/'\n",
    "\n",
    "ball_center = [[536, 1054]]\n",
    "\n",
    "\n",
    "    \n",
    "# for root, dr, files in os.walk(path):\n",
    "#     print('root ', root, 'dir ', dr, 'files', files)\n",
    "with open(file, \"r\") as f: \n",
    "    json_f = json.load(f)\n",
    "\n",
    "for idx, i in enumerate(json_f):\n",
    "    im3_path = path + i[\"image_id\"]\n",
    "    im3 = cv2.imread(im3_path)\n",
    "    im3_shape = im3.shape\n",
    "    print('image shape ',im3_shape)\n",
    "        \n",
    "    # pose infos \n",
    "    print(i[\"image_id\"])\n",
    "    print('.....................')\n",
    "    \n",
    "    # person center: calculate middle x point between right and left ankles\n",
    "    av_ank_point = abs(i[\"keypoints\"][48] - i[\"keypoints\"][45]) / 2 + min(i[\"keypoints\"][45],i[\"keypoints\"][48])\n",
    "    \n",
    "    # calculate distance between right knee and ankle for ratio\n",
    "    difx = abs(i[\"keypoints\"][42] - i[\"keypoints\"][48]) # kneeX - ankleX \n",
    "    dify = abs(i[\"keypoints\"][43] - i[\"keypoints\"][49]) # kneeY - ankleY \n",
    "    dif_c = math.sqrt(difx**2+dify**2)\n",
    "    org = 100\n",
    "    ratio = org/dif_c\n",
    "    \n",
    "    # real size by ratio \n",
    "    toe_difx = (i[\"keypoints\"][60] - i[\"keypoints\"][63])\n",
    "    real_toe_difx = toe_difx * ratio\n",
    "    \n",
    "    # find angle to rotate centeral line\n",
    "    angle_l = 35*(35-real_toe_difx)/51\n",
    "    if angle_l<0:\n",
    "        angle_l = angle_l*-1\n",
    "    print('angle found: ',angle_l, 'with dif value ', real_toe_difx)\n",
    "    print('')\n",
    "        \n",
    "    # find line start and end points\n",
    "    im_h , im_w = im3_shape[0] , im3_shape[1] # image hight width\n",
    "    scale = 0.40 # used to set last y point for line \n",
    "    # find x end point \n",
    "   \n",
    "    b_line = bly - im_h*scale\n",
    "    a_line = math.tan(math.radians(angle_l))*b_line\n",
    "    end_point = (int(ball_center[0][0]+a_line), int(im_h*scale)) # x, y end points \n",
    "\n",
    "    start_p_y = im_h*0.9 # used to set start y point by scaling \n",
    "    # start_p_y = (im_h - ball_center[0][1])*scale+ball_center[0][1]\n",
    "    # find x start point \n",
    "    bs_line = start_p_y - ball_center[0][1]\n",
    "    as_line = math.tan(math.radians(angle_l))*bs_line\n",
    "    start_point = int(ball_center[0][0]-as_line), int(start_p_y) # x, y start points\n",
    "    \n",
    "    start_point2 = ball_center = [536, 1054]\n",
    "    cv2.line(im3, start_point, end_point, color=(255, 50, 50 ), thickness=3)\n",
    "    cv2.imwrite((f'{path}out{i[\"image_id\"]}'), im3)\n",
    "\n",
    " \n"
   ]
  },
  {
   "cell_type": "code",
   "execution_count": 4,
   "id": "37ab73a8",
   "metadata": {},
   "outputs": [
    {
     "name": "stdout",
     "output_type": "stream",
     "text": [
      "image shape  (1920, 1080, 3)\n",
      "im2.jpg\n",
      ".....................\n",
      "angle found:  21.28325365335636 with dif value  3.987258962252156\n",
      "\n",
      "image shape  (1920, 1080, 3)\n",
      "im3.jpg\n",
      ".....................\n",
      "angle found:  12.268694080352782 with dif value  52.87723994565691\n",
      "\n"
     ]
    },
    {
     "ename": "TypeError",
     "evalue": "'int' object is not subscriptable",
     "output_type": "error",
     "traceback": [
      "\u001b[1;31m---------------------------------------------------------------------------\u001b[0m",
      "\u001b[1;31mTypeError\u001b[0m                                 Traceback (most recent call last)",
      "\u001b[1;32mc:\\Users\\USER\\PROJECT\\3dRotation\\pose_est_test.ipynb Cell 11\u001b[0m in \u001b[0;36m<cell line: 17>\u001b[1;34m()\u001b[0m\n\u001b[0;32m     <a href='vscode-notebook-cell:/c%3A/Users/USER/PROJECT/3dRotation/pose_est_test.ipynb#X32sZmlsZQ%3D%3D?line=49'>50</a>\u001b[0m scale \u001b[39m=\u001b[39m \u001b[39m0.40\u001b[39m \u001b[39m# used to set last y point for line \u001b[39;00m\n\u001b[0;32m     <a href='vscode-notebook-cell:/c%3A/Users/USER/PROJECT/3dRotation/pose_est_test.ipynb#X32sZmlsZQ%3D%3D?line=50'>51</a>\u001b[0m \u001b[39m# find x end point \u001b[39;00m\n\u001b[1;32m---> <a href='vscode-notebook-cell:/c%3A/Users/USER/PROJECT/3dRotation/pose_est_test.ipynb#X32sZmlsZQ%3D%3D?line=51'>52</a>\u001b[0m b_c_y \u001b[39m=\u001b[39m ball_center[\u001b[39m0\u001b[39;49m][\u001b[39m1\u001b[39;49m]\n\u001b[0;32m     <a href='vscode-notebook-cell:/c%3A/Users/USER/PROJECT/3dRotation/pose_est_test.ipynb#X32sZmlsZQ%3D%3D?line=52'>53</a>\u001b[0m b_line \u001b[39m=\u001b[39m b_c_y \u001b[39m-\u001b[39m im_h\u001b[39m*\u001b[39mscale\n\u001b[0;32m     <a href='vscode-notebook-cell:/c%3A/Users/USER/PROJECT/3dRotation/pose_est_test.ipynb#X32sZmlsZQ%3D%3D?line=53'>54</a>\u001b[0m a_line \u001b[39m=\u001b[39m math\u001b[39m.\u001b[39mtan(math\u001b[39m.\u001b[39mradians(angle_l))\u001b[39m*\u001b[39mb_line\n",
      "\u001b[1;31mTypeError\u001b[0m: 'int' object is not subscriptable"
     ]
    }
   ],
   "source": []
  },
  {
   "cell_type": "code",
   "execution_count": null,
   "id": "c7b29d82",
   "metadata": {},
   "outputs": [],
   "source": []
  }
 ],
 "metadata": {
  "kernelspec": {
   "display_name": "Python 3.9.12 ('base')",
   "language": "python",
   "name": "python3"
  },
  "language_info": {
   "codemirror_mode": {
    "name": "ipython",
    "version": 3
   },
   "file_extension": ".py",
   "mimetype": "text/x-python",
   "name": "python",
   "nbconvert_exporter": "python",
   "pygments_lexer": "ipython3",
   "version": "3.9.12"
  },
  "vscode": {
   "interpreter": {
    "hash": "2fffb9416fef0f14d8c3180827823918a8a81fff6ed4e50b546e97970237eb04"
   }
  }
 },
 "nbformat": 4,
 "nbformat_minor": 5
}
