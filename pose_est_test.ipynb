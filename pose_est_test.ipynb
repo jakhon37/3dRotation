{
 "cells": [
  {
   "cell_type": "markdown",
   "id": "af224198",
   "metadata": {},
   "source": [
    "# pose estimation & find person location side "
   ]
  },
  {
   "cell_type": "code",
   "execution_count": 5,
   "id": "95c706e5",
   "metadata": {
    "scrolled": true
   },
   "outputs": [
    {
     "name": "stdout",
     "output_type": "stream",
     "text": [
      "im1.jpg\n",
      "left big toe [186.71107482910156, 1006.038330078125]\n",
      "right big toe [168.10154724121094, 1061.866943359375]\n",
      "\n",
      "toe defferance on X 18.609527587890625\n",
      "toe defferance on Y -55.82861328125\n",
      "toe distance on C 58.84852230899113\n",
      "\n",
      "im2.jpg\n",
      "left big toe [329.3376159667969, 1623.956787109375]\n",
      "right big toe [377.7659912109375, 1696.599365234375]\n",
      "\n",
      "toe defferance on X -48.428375244140625\n",
      "toe defferance on Y -72.642578125\n",
      "toe distance on C 87.3055077611603\n",
      "\n",
      "im3.jpg\n",
      "left big toe [346.80157470703125, 1084.8817138671875]\n",
      "right big toe [294.45025634765625, 1113.0709228515625]\n",
      "\n",
      "toe defferance on X 52.351318359375\n",
      "toe defferance on Y -28.189208984375\n",
      "toe distance on C 59.45832184925338\n",
      "\n"
     ]
    }
   ],
   "source": [
    "import json\n",
    "import math\n",
    "file = \"./data/txt/alphapose-results.json\"\n",
    "\n",
    "big_toe = []\n",
    "with open(file, \"r\") as f: \n",
    "    json_f = json.load(f)\n",
    "    for i in (json_f):\n",
    "        print(i[\"image_id\"])\n",
    "        print(\"left big toe\", i[\"keypoints\"][60:62])\n",
    "        print(\"right big toe\", i[\"keypoints\"][63:65])\n",
    "        big_toe.append([i[\"keypoints\"][60:62], i[\"keypoints\"][63:65]])\n",
    "        print('')\n",
    "\n",
    "        toe_difx = i[\"keypoints\"][60] - i[\"keypoints\"][63]\n",
    "        print('toe defferance on X', toe_difx)\n",
    "        toe_dify = i[\"keypoints\"][61] - i[\"keypoints\"][64]\n",
    "        print('toe defferance on Y', toe_dify)\n",
    "        toe_c = math.sqrt(toe_difx**2+toe_dify**2)\n",
    "        print('toe distance on C', toe_c)\n",
    "        print('')\n"
   ]
  },
  {
   "cell_type": "code",
   "execution_count": null,
   "id": "deb14b4f",
   "metadata": {},
   "outputs": [],
   "source": []
  },
  {
   "cell_type": "code",
   "execution_count": 27,
   "id": "106cbc9c",
   "metadata": {},
   "outputs": [
    {
     "name": "stdout",
     "output_type": "stream",
     "text": [
      "im2.jpg\n",
      "left big toe [394.5544738769531, 1318.68408203125]\n",
      "right big toe [390.0595397949219, 1354.6435546875]\n",
      "left ankle [349.6051330566406, 1314.189208984375]\n",
      "right ankle [340.6152648925781, 1341.1588134765625]\n",
      ".....................\n",
      "middle point -  345.1101989746094\n",
      "toe defferance on X 4.49493408203125\n",
      "toe defferance on Y 35.95947265625\n",
      "angle perpendicular to dif_x 7.125016348901757\n",
      "toe_y  601.31591796875\n",
      "toe _x  75.16448974609331\n",
      "big tria c  605.9954898523512\n",
      "camera postion on x axise:  465.22402954101517\n",
      "defferance on X 8.9898681640625\n",
      "defferance on Y 112.3734130859375\n",
      "distance on C 112.73243410035097\n",
      "........................\n",
      "real toe dif  3.987258962252156\n",
      "camera_angle  21.28325365335636\n",
      "\n",
      "im3.jpg\n",
      "left big toe [341.41644287109375, 1056.7891845703125]\n",
      "right big toe [288.1179504394531, 1083.4384765625]\n",
      "left ankle [295.73199462890625, 1045.3680419921875]\n",
      "right ankle [242.43350219726562, 1068.2103271484375]\n",
      ".....................\n",
      "middle point -  269.08274841308594\n",
      "toe defferance on X 53.298492431640625\n",
      "toe defferance on Y 26.6492919921875\n",
      "angle perpendicular to dif_x 63.434909455328366\n",
      "toe_y  863.2108154296875\n",
      "toe _x  1726.418665328039\n",
      "big tria c  1930.1954097623984\n",
      "camera postion on x axise:  2014.536615767492\n",
      "defferance on X 19.035186767578125\n",
      "defferance on Y 98.98297119140625\n",
      "distance on C 100.79666125996108\n",
      "........................\n",
      "real toe dif  52.87723994565691\n",
      "camera_angle  -12.268694080352782\n",
      "\n",
      "im4.jpg\n",
      "left big toe [452.6906433105469, 1423.095458984375]\n",
      "right big toe [398.9397888183594, 1452.95703125]\n",
      "left ankle [398.9397888183594, 1399.2061767578125]\n",
      "right ankle [345.1889343261719, 1429.0677490234375]\n",
      ".....................\n",
      "middle point -  372.0643615722656\n",
      "toe defferance on X 53.7508544921875\n",
      "toe defferance on Y 29.861572265625\n",
      "angle perpendicular to dif_x 60.945406948931534\n",
      "toe_y  496.904541015625\n",
      "toe _x  894.4285800846479\n",
      "big tria c  1023.1894290668705\n",
      "camera postion on x axise:  1293.3683689030072\n",
      "defferance on X 35.833892822265625\n",
      "defferance on Y 143.335693359375\n",
      "distance on C 147.74704350886483\n",
      "........................\n",
      "real toe dif  36.38032492268615\n",
      "camera_angle  -0.9472818096865733\n",
      "\n",
      "im5.jpg\n",
      "left big toe [359.27587890625, 1583.4158935546875]\n",
      "right big toe [326.5206298828125, 1635.8243408203125]\n",
      "left ankle [293.76531982421875, 1557.211669921875]\n",
      "right ankle [254.45899963378906, 1603.0689697265625]\n",
      ".....................\n",
      "middle point -  274.1121597290039\n",
      "toe defferance on X 32.7552490234375\n",
      "toe defferance on Y 52.408447265625\n",
      "angle perpendicular to dif_x 32.005359216357895\n",
      "toe_y  336.5841064453125\n",
      "toe _x  210.3648705345006\n",
      "big tria c  396.91590981791927\n",
      "camera postion on x axise:  536.8855004173131\n",
      "defferance on X 32.75529479980469\n",
      "defferance on Y 170.327392578125\n",
      "distance on C 173.44834966030902\n",
      "........................\n",
      "real toe dif  18.884727982472715\n",
      "camera_angle  11.059500404185393\n",
      "\n",
      "im6.jpg\n",
      "left big toe [318.3521728515625, 1579.712158203125]\n",
      "right big toe [352.2527160644531, 1664.4635009765625]\n",
      "left ankle [242.075927734375, 1562.7618408203125]\n",
      "right ankle [267.5013427734375, 1639.0380859375]\n",
      ".....................\n",
      "middle point -  254.78863525390625\n",
      "toe defferance on X -33.900543212890625\n",
      "toe defferance on Y 84.7513427734375\n",
      "angle perpendicular to dif_x 21.80141304346844\n",
      "toe_y  340.287841796875\n",
      "toe _x  136.11516122517185\n",
      "big tria c  366.50123108951425\n",
      "camera postion on x axise:  454.46733407673435\n",
      "defferance on X 25.4254150390625\n",
      "defferance on Y 211.87841796875\n",
      "distance on C 213.39849046056747\n",
      "........................\n",
      "real toe dif  -15.886027656392859\n",
      "camera_angle  34.921783685759806\n",
      "\n",
      "im7.jpg\n",
      "left big toe [362.5392761230469, 1450.1962890625]\n",
      "right big toe [342.52825927734375, 1503.55908203125]\n",
      "left ankle [302.5062255859375, 1430.185302734375]\n",
      "right ankle [269.1545104980469, 1483.5479736328125]\n",
      ".....................\n",
      "middle point -  285.8303680419922\n",
      "toe defferance on X 20.011016845703125\n",
      "toe defferance on Y 53.36279296875\n",
      "angle perpendicular to dif_x 20.55601649251294\n",
      "toe_y  469.8037109375\n",
      "toe _x  176.17612292613066\n",
      "big tria c  501.7504888885801\n",
      "camera postion on x axise:  518.7043822034744\n",
      "defferance on X 20.011016845703125\n",
      "defferance on Y 166.7584228515625\n",
      "distance on C 167.9547926888052\n",
      "........................\n",
      "real toe dif  11.914525644278879\n",
      "camera_angle  15.842972597063515\n",
      "\n"
     ]
    }
   ],
   "source": [
    "import json\n",
    "import math\n",
    "file = \"./data/res/alphapose-results.json\" #./data/txt/alphapose-results.json\"\n",
    "\n",
    "r_dif_list = []\n",
    "with open(file, \"r\") as f: \n",
    "    json_f = json.load(f)\n",
    "    for i in (json_f):\n",
    "        \n",
    "        # pose infos \n",
    "        print(i[\"image_id\"])\n",
    "        print(\"left big toe\", i[\"keypoints\"][60:62])\n",
    "        print(\"right big toe\", i[\"keypoints\"][63:65])\n",
    "        print(\"left ankle\", i[\"keypoints\"][45:47])\n",
    "        print(\"right ankle\", i[\"keypoints\"][48:50])\n",
    "        print('.....................')\n",
    "    \n",
    "        # person center: calculate middle x point between right and left ankles\n",
    "        av_ank_point = abs(i[\"keypoints\"][48] - i[\"keypoints\"][45]) / 2 + min(i[\"keypoints\"][45],i[\"keypoints\"][48])\n",
    "        print('middle point - ', av_ank_point )\n",
    "        \n",
    "        # calculate angle of big toe\n",
    "        toe_difx = (i[\"keypoints\"][60] - i[\"keypoints\"][63])\n",
    "        print('toe defferance on X', toe_difx)\n",
    "        toe_dify = abs(i[\"keypoints\"][61] - i[\"keypoints\"][64])\n",
    "        print('toe defferance on Y', toe_dify)\n",
    "        dif_c_toe = math.sqrt(toe_difx**2+toe_dify**2)\n",
    "        cosa = (toe_dify**2 + dif_c_toe**2 - toe_difx**2) / (2*toe_dify*dif_c_toe) # cosa = (b**2 + c**2 - a**2) / 2*b*c\n",
    "        anglex = math.acos(cosa)\n",
    "        angle_x = math.degrees(anglex)\n",
    "        print('angle perpendicular to dif_x',angle_x)\n",
    "        \n",
    "        \n",
    "        # camera position: calculate big triangular \n",
    "        im_h, im_w = 1920, 1080\n",
    "        toe_y_high = min(i[\"keypoints\"][61], i[\"keypoints\"][64])\n",
    "        toe_y = im_h - toe_y_high\n",
    "        print('toe_y ', toe_y)\n",
    "        toe_x = math.tan(math.radians(angle_x))*toe_y\n",
    "        print('toe _x ', toe_x)\n",
    "        dif_toe_c = math.sqrt(toe_x**2+toe_y**2)\n",
    "        print('big tria c ', dif_toe_c)\n",
    "        camera_x = min(i[\"keypoints\"][60], i[\"keypoints\"][63])+toe_x\n",
    "        print('camera postion on x axise: ', camera_x)\n",
    "        \n",
    "        \n",
    "        \n",
    "        # calculate distance between right knee and ankle for ratio\n",
    "        difx = abs(i[\"keypoints\"][42] - i[\"keypoints\"][48]) # kneeX - ankleX \n",
    "        print('defferance on X', difx)\n",
    "        dify = abs(i[\"keypoints\"][43] - i[\"keypoints\"][49]) # kneeY - ankleY \n",
    "        print('defferance on Y', dify)\n",
    "        dif_c = math.sqrt(difx**2+dify**2)\n",
    "        print('distance on C', dif_c)\n",
    "        print('........................')\n",
    "        # ratio \n",
    "        org = 100\n",
    "        ratio = org/dif_c\n",
    "        real_toe_difx = toe_difx * ratio\n",
    "        print('real toe dif ', real_toe_difx)\n",
    "        camera_angle  = 35*(35-real_toe_difx)/51\n",
    "        print('camera_angle ', camera_angle)\n",
    "        print('')\n",
    "        \n",
    "        r_dif_list.append([ i[\"image_id\"], real_toe_difx, av_ank_point,  ])\n"
   ]
  },
  {
   "cell_type": "code",
   "execution_count": 8,
   "id": "60f48ff2",
   "metadata": {},
   "outputs": [
    {
     "name": "stdout",
     "output_type": "stream",
     "text": [
      "ratio 3.5460992907801416\n",
      "real dist  656.0283687943262\n"
     ]
    }
   ],
   "source": [
    "org = 500\n",
    "c = 141\n",
    "x_dif = 185\n",
    "ra = org / c\n",
    "print('ratio', ra)\n",
    "\n",
    "real = x_dif*ra\n",
    "print('real dist ', real)\n"
   ]
  },
  {
   "cell_type": "code",
   "execution_count": 42,
   "id": "2c262de7",
   "metadata": {},
   "outputs": [
    {
     "name": "stdout",
     "output_type": "stream",
     "text": [
      "63.93604149340884\n"
     ]
    }
   ],
   "source": [
    "a = 5.3\n",
    "b = 2.6\n",
    "c = 5.9\n",
    "cosa = (b**2 + c**2 - a**2) / (2*b*c) # cosa = (b**2 + c**2 - a**2) / 2*b*c\n",
    "a_a2 = math.acos(cosa)\n",
    "a_a2 = math.degrees(a_a2)\n",
    "print(a_a2)"
   ]
  },
  {
   "cell_type": "code",
   "execution_count": 53,
   "id": "ec77c9a4",
   "metadata": {},
   "outputs": [
    {
     "name": "stdout",
     "output_type": "stream",
     "text": [
      "angle y  29.377792383399086\n",
      "60.62220761660092\n"
     ]
    }
   ],
   "source": [
    "dd = a / b \n",
    "if dd > 1: \n",
    "    dd = b/a\n",
    "    siny = math.asin(dd)\n",
    "    angle_y = math.degrees(siny)\n",
    "    print('angle y ', angle_y)\n",
    "    angle_x = 90-angle_y\n",
    "    print(angle_x)\n",
    "else:\n",
    "    sinx = math.asin(dd)\n",
    "    print(sinx)\n",
    "    angle_x = math.degrees(sinx)\n",
    "    print(angle_x)"
   ]
  },
  {
   "cell_type": "code",
   "execution_count": null,
   "id": "b57f85d0",
   "metadata": {},
   "outputs": [],
   "source": []
  },
  {
   "cell_type": "code",
   "execution_count": 21,
   "id": "3a41e8d6",
   "metadata": {},
   "outputs": [
    {
     "data": {
      "text/plain": [
       "['im3.jpg', 52.87723994565691]"
      ]
     },
     "execution_count": 21,
     "metadata": {},
     "output_type": "execute_result"
    }
   ],
   "source": [
    "r_dif_list[1] # image and its camera position on x axise"
   ]
  },
  {
   "cell_type": "code",
   "execution_count": 27,
   "id": "a19f45b4",
   "metadata": {},
   "outputs": [
    {
     "name": "stdout",
     "output_type": "stream",
     "text": [
      "(1920, 1080, 3)\n"
     ]
    }
   ],
   "source": [
    "import cv2\n",
    "path = './data/res/vis/'\n",
    "im3_path = path + r_dif_list[1][0]\n",
    "im3 = cv2.imread(im3_path)\n",
    "im3_shape = im3.shape\n",
    "print(im3_shape)"
   ]
  },
  {
   "cell_type": "code",
   "execution_count": 15,
   "id": "09fccb6d",
   "metadata": {},
   "outputs": [],
   "source": [
    "ball_center = [[570, 956], [590, 844]]\n",
    "ball_cx, ball_y = 535, 1053"
   ]
  },
  {
   "cell_type": "code",
   "execution_count": 17,
   "id": "3dcb9d28",
   "metadata": {},
   "outputs": [
    {
     "name": "stdout",
     "output_type": "stream",
     "text": [
      "1056.7891845703125\n",
      "1083.4384765625\n",
      "341.41644287109375\n",
      "288.1179504394531\n"
     ]
    }
   ],
   "source": [
    "lt_y = json_f[1][\"keypoints\"][61]\n",
    "print(lt_y)\n",
    "rt_y = json_f[1][\"keypoints\"][64]\n",
    "print(rt_y)\n",
    "\n",
    "lt_x = json_f[1][\"keypoints\"][60]\n",
    "print(lt_x)\n",
    "rt_x = json_f[1][\"keypoints\"][63]\n",
    "print(rt_x)\n"
   ]
  },
  {
   "cell_type": "code",
   "execution_count": 23,
   "id": "e6fc1ec8",
   "metadata": {},
   "outputs": [
    {
     "name": "stdout",
     "output_type": "stream",
     "text": [
      "438.2082214355469\n",
      "1058.6837768554688\n"
     ]
    }
   ],
   "source": [
    "xxx = (ball_cx-lt_x)/2+lt_x\n",
    "print(xxx)\n",
    "\n",
    "yyy = (lt_y - ball_y)/2+lt_y\n",
    "print(yyy)"
   ]
  },
  {
   "cell_type": "code",
   "execution_count": 25,
   "id": "614a9e38",
   "metadata": {},
   "outputs": [
    {
     "name": "stdout",
     "output_type": "stream",
     "text": [
      "411.55897521972656\n",
      "1068.21923828125\n"
     ]
    }
   ],
   "source": [
    "xxx2 = (ball_cx-rt_x)/2+rt_x\n",
    "print(xxx2)\n",
    "\n",
    "yyy2 = (rt_y - ball_y)/2+ball_y\n",
    "print(yyy2)"
   ]
  },
  {
   "cell_type": "code",
   "execution_count": null,
   "id": "533cc0a3",
   "metadata": {},
   "outputs": [],
   "source": []
  },
  {
   "cell_type": "code",
   "execution_count": null,
   "id": "656137a0",
   "metadata": {},
   "outputs": [],
   "source": []
  }
 ],
 "metadata": {
  "kernelspec": {
   "display_name": "Python 3.10.4 ('label')",
   "language": "python",
   "name": "python3"
  },
  "language_info": {
   "codemirror_mode": {
    "name": "ipython",
    "version": 3
   },
   "file_extension": ".py",
   "mimetype": "text/x-python",
   "name": "python",
   "nbconvert_exporter": "python",
   "pygments_lexer": "ipython3",
   "version": "3.10.4"
  },
  "vscode": {
   "interpreter": {
    "hash": "cb8a95a58a3a187ab9c4364ddd8aefcc1775bcaa833d347732917a9c172055e9"
   }
  }
 },
 "nbformat": 4,
 "nbformat_minor": 5
}
