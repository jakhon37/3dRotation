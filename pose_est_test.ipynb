{
 "cells": [
  {
   "cell_type": "markdown",
   "id": "af224198",
   "metadata": {},
   "source": [
    "# pose estimation & find person location side "
   ]
  },
  {
   "cell_type": "code",
   "execution_count": 40,
   "id": "95c706e5",
   "metadata": {
    "scrolled": true
   },
   "outputs": [
    {
     "name": "stdout",
     "output_type": "stream",
     "text": [
      "im1.jpg\n",
      "left big toe [186.71107482910156, 1006.038330078125]\n",
      "right big toe [0.9145693182945251, 168.10154724121094]\n",
      "\n",
      "toe defferance on X 185.79650551080704\n",
      "toe defferance on Y 837.9367828369141\n",
      "toe distance on C 858.2880597393308\n",
      "\n",
      "im2.jpg\n",
      "left big toe [329.3376159667969, 1623.956787109375]\n",
      "right big toe [0.9451612830162048, 377.7659912109375]\n",
      "\n",
      "toe defferance on X 328.39245468378067\n",
      "toe defferance on Y 1246.1907958984375\n",
      "toe distance on C 1288.733139201138\n",
      "\n",
      "im3.jpg\n",
      "left big toe [346.80157470703125, 1084.8817138671875]\n",
      "right big toe [0.8327558040618896, 294.45025634765625]\n",
      "\n",
      "toe defferance on X 345.96881890296936\n",
      "toe defferance on Y 790.4314575195312\n",
      "toe distance on C 862.8304078378127\n",
      "\n"
     ]
    }
   ],
   "source": [
    "import json\n",
    "import math\n",
    "file = \"./data/txt/alphapose-results.json\"\n",
    "\n",
    "big_toe = []\n",
    "with open(file, \"r\") as f: \n",
    "    json_f = json.load(f)\n",
    "    for i in (json_f):\n",
    "        print(i[\"image_id\"])\n",
    "        print(\"left big toe\", i[\"keypoints\"][60:62])\n",
    "        print(\"right big toe\", i[\"keypoints\"][62:64])\n",
    "        big_toe.append([i[\"keypoints\"][60:62], i[\"keypoints\"][62:64]])\n",
    "        print('')\n",
    "\n",
    "        toe_difx = i[\"keypoints\"][60] - i[\"keypoints\"][62]\n",
    "        print('toe defferance on X', toe_difx)\n",
    "        toe_dify = i[\"keypoints\"][61] - i[\"keypoints\"][63]\n",
    "        print('toe defferance on Y', toe_dify)\n",
    "        toe_c = math.sqrt(toe_difx**2+toe_dify**2)\n",
    "        print('toe distance on C', toe_c)\n",
    "        print('')\n"
   ]
  },
  {
   "cell_type": "code",
   "execution_count": null,
   "id": "deb14b4f",
   "metadata": {},
   "outputs": [],
   "source": []
  },
  {
   "cell_type": "code",
   "execution_count": 1,
   "id": "106cbc9c",
   "metadata": {},
   "outputs": [
    {
     "name": "stdout",
     "output_type": "stream",
     "text": [
      "im1.jpg\n",
      "left big toe [186.71107482910156, 1006.038330078125]\n",
      "right big toe [0.9145693182945251, 168.10154724121094]\n",
      "\n",
      "toe defferance on X 185.79650551080704\n",
      "defferance on X 41.87145233154297\n",
      "defferance on Y -134.9190673828125\n",
      " distance on C 141.26702822598264\n",
      "\n",
      "im2.jpg\n",
      "left big toe [329.3376159667969, 1623.956787109375]\n",
      "right big toe [0.9451612830162048, 377.7659912109375]\n",
      "\n",
      "toe defferance on X 328.39245468378067\n",
      "defferance on X 32.28558349609375\n",
      "defferance on Y -193.7135009765625\n",
      " distance on C 196.38553755885366\n",
      "\n",
      "im3.jpg\n",
      "left big toe [346.80157470703125, 1084.8817138671875]\n",
      "right big toe [0.8327558040618896, 294.45025634765625]\n",
      "\n",
      "toe defferance on X 345.96881890296936\n",
      "defferance on X 32.2161865234375\n",
      "defferance on Y -100.675537109375\n",
      " distance on C 105.70452424742311\n",
      "\n"
     ]
    }
   ],
   "source": [
    "import json\n",
    "import math\n",
    "file = \"./data/txt/alphapose-results.json\"\n",
    "\n",
    "knee_ankle = []\n",
    "with open(file, \"r\") as f: \n",
    "    json_f = json.load(f)\n",
    "    for i in (json_f):\n",
    "        print(i[\"image_id\"])\n",
    "        print(\"left big toe\", i[\"keypoints\"][60:62])\n",
    "        print(\"right big toe\", i[\"keypoints\"][62:64])\n",
    "        print('')\n",
    "        \n",
    "        toe_difx = i[\"keypoints\"][60] - i[\"keypoints\"][62]\n",
    "        print('toe defferance on X', toe_difx)\n",
    "        \n",
    "        difx = i[\"keypoints\"][42] - i[\"keypoints\"][48] # kneeX - ankleX \n",
    "        print('defferance on X', difx)\n",
    "        dify = i[\"keypoints\"][43] - i[\"keypoints\"][49] # kneeY - ankleY \n",
    "        print('defferance on Y', dify)\n",
    "        dif_c = math.sqrt(difx**2+dify**2)\n",
    "        print(' distance on C', dif_c)\n",
    "        print('')\n",
    "        \n",
    "        knee_ankle.append([i[\"keypoints\"][60:62], i[\"keypoints\"][62:64], [dif_c], [toe_difx]])\n"
   ]
  },
  {
   "cell_type": "code",
   "execution_count": 3,
   "id": "60f48ff2",
   "metadata": {},
   "outputs": [],
   "source": [
    "org = 500"
   ]
  },
  {
   "cell_type": "code",
   "execution_count": null,
   "id": "2c262de7",
   "metadata": {},
   "outputs": [],
   "source": []
  },
  {
   "cell_type": "code",
   "execution_count": null,
   "id": "3a41e8d6",
   "metadata": {},
   "outputs": [],
   "source": []
  },
  {
   "cell_type": "code",
   "execution_count": 21,
   "id": "04a67359",
   "metadata": {},
   "outputs": [
    {
     "data": {
      "text/plain": [
       "[186.71107482910156, 1006.038330078125]"
      ]
     },
     "execution_count": 21,
     "metadata": {},
     "output_type": "execute_result"
    }
   ],
   "source": [
    "json_f[0][\"keypoints\"][60:62]"
   ]
  },
  {
   "cell_type": "code",
   "execution_count": 31,
   "id": "b133ddd3",
   "metadata": {},
   "outputs": [
    {
     "data": {
      "text/plain": [
       "185.79650551080704"
      ]
     },
     "execution_count": 31,
     "metadata": {},
     "output_type": "execute_result"
    }
   ],
   "source": [
    "big_toe[0][0][0]-big_toe[0][1][0]"
   ]
  },
  {
   "cell_type": "code",
   "execution_count": 28,
   "id": "e0b9758b",
   "metadata": {},
   "outputs": [
    {
     "data": {
      "text/plain": [
       "[[186.71107482910156, 1006.038330078125],\n",
       " [0.9145693182945251, 168.10154724121094]]"
      ]
     },
     "execution_count": 28,
     "metadata": {},
     "output_type": "execute_result"
    }
   ],
   "source": [
    "big_toe[0]"
   ]
  },
  {
   "cell_type": "code",
   "execution_count": 27,
   "id": "53c4c288",
   "metadata": {},
   "outputs": [
    {
     "data": {
      "text/plain": [
       "[186.71107482910156, 1006.038330078125]"
      ]
     },
     "execution_count": 27,
     "metadata": {},
     "output_type": "execute_result"
    }
   ],
   "source": [
    "big_toe[0][0]"
   ]
  },
  {
   "cell_type": "code",
   "execution_count": 29,
   "id": "a036304b",
   "metadata": {},
   "outputs": [
    {
     "data": {
      "text/plain": [
       "[[[186.71107482910156, 1006.038330078125],\n",
       "  [0.9145693182945251, 168.10154724121094]],\n",
       " [[329.3376159667969, 1623.956787109375],\n",
       "  [0.9451612830162048, 377.7659912109375]],\n",
       " [[346.80157470703125, 1084.8817138671875],\n",
       "  [0.8327558040618896, 294.45025634765625]]]"
      ]
     },
     "execution_count": 29,
     "metadata": {},
     "output_type": "execute_result"
    }
   ],
   "source": [
    "big_toe"
   ]
  },
  {
   "cell_type": "code",
   "execution_count": null,
   "id": "a19f45b4",
   "metadata": {},
   "outputs": [],
   "source": []
  }
 ],
 "metadata": {
  "kernelspec": {
   "display_name": "Python 3 (ipykernel)",
   "language": "python",
   "name": "python3"
  },
  "language_info": {
   "codemirror_mode": {
    "name": "ipython",
    "version": 3
   },
   "file_extension": ".py",
   "mimetype": "text/x-python",
   "name": "python",
   "nbconvert_exporter": "python",
   "pygments_lexer": "ipython3",
   "version": "3.9.12"
  },
  "vscode": {
   "interpreter": {
    "hash": "d269d646e746d453809fe9c5b563923bd8c5eaab0aeeefd3b374ec41b733cd20"
   }
  }
 },
 "nbformat": 4,
 "nbformat_minor": 5
}
