{
 "cells": [
  {
   "cell_type": "code",
   "execution_count": null,
   "id": "7aa52880",
   "metadata": {},
   "outputs": [],
   "source": []
  },
  {
   "cell_type": "code",
   "execution_count": 11,
   "id": "a22f0584",
   "metadata": {},
   "outputs": [
    {
     "name": "stdout",
     "output_type": "stream",
     "text": [
      "ax  93.55553493754296\n",
      "ay  326.87514723904934\n"
     ]
    }
   ],
   "source": [
    "import math\n",
    "a = 340\n",
    "alfa = 17\n",
    "ax = abs(a * math.cos(alfa))\n",
    "ay = abs(a * math.sin(alfa))\n",
    "print('ax ', ax)\n",
    "print('ay ', ay)"
   ]
  },
  {
   "cell_type": "code",
   "execution_count": null,
   "id": "0734b5ea",
   "metadata": {},
   "outputs": [],
   "source": []
  },
  {
   "cell_type": "code",
   "execution_count": null,
   "id": "1dc7c080",
   "metadata": {},
   "outputs": [],
   "source": []
  },
  {
   "cell_type": "code",
   "execution_count": 1,
   "id": "e9251e5b",
   "metadata": {},
   "outputs": [
    {
     "name": "stdout",
     "output_type": "stream",
     "text": [
      "19.0764583093\n"
     ]
    }
   ],
   "source": [
    "ball_pix = 721\n",
    "pix_ratio_cm = 0.0264583333 \n",
    "\n",
    "ball_size_cm = ball_pix * pix_ratio_cm\n",
    "print(ball_size_cm)"
   ]
  },
  {
   "cell_type": "code",
   "execution_count": null,
   "id": "da8c4de7",
   "metadata": {},
   "outputs": [],
   "source": [
    "ball_size_cm "
   ]
  },
  {
   "cell_type": "code",
   "execution_count": null,
   "id": "2b6a164d",
   "metadata": {},
   "outputs": [],
   "source": []
  },
  {
   "cell_type": "code",
   "execution_count": 2,
   "id": "72383fad",
   "metadata": {},
   "outputs": [],
   "source": [
    "def cal_dist(ball_size, focal_l, obj_px_size):\n",
    "#     focal = focal_l * 3.7795275591 # 1 mm = 3.7795275591 pixel\n",
    "    focal = focal_l * 37.795275591 # 1 mm = 3.7795275591 pixel\n",
    "    obj_im = obj_px_size * 0.026458333 # yolov5 result cm\n",
    "    # print('obj_im_2 ', obj_im_2)\n",
    "    obj_im2 = obj_px_size * 0.26458333 \n",
    "#     print('obj_im_ ', obj_im)\n",
    "    dist = focal * ball_size / obj_im\n",
    "    # dist= dist - (dist/3)\n",
    "    return dist"
   ]
  },
  {
   "cell_type": "code",
   "execution_count": 3,
   "id": "1f35d619",
   "metadata": {},
   "outputs": [
    {
     "name": "stdout",
     "output_type": "stream",
     "text": [
      "349.90688022618235\n"
     ]
    }
   ],
   "source": [
    "obj_px_size = 721 # 20 cm \n",
    "obj_px_size = 40 # 340 cm\n",
    "focal_l = 2.3 # 26 mm\n",
    "ball_size = 4.26 # \n",
    "ball_size_real = cal_dist(ball_size, focal_l, obj_px_size)\n",
    "print(ball_size_real)"
   ]
  },
  {
   "cell_type": "code",
   "execution_count": 3,
   "id": "57e1246e",
   "metadata": {},
   "outputs": [
    {
     "name": "stdout",
     "output_type": "stream",
     "text": [
      "666.4892956689188\n"
     ]
    }
   ],
   "source": [
    "def cal_dist(ball_size, focal_l, obj_px_size):\n",
    "    focal = focal_l * 37.795275591 # 1 cm = 37.795275591 pixel\n",
    "    obj_im = obj_px_size * 0.026458333 # yolov5 result/\n",
    "    dist = focal * ball_size / obj_im\n",
    "    return dist \n",
    "\n",
    "obj_px_size = 721 # 20 cm \n",
    "obj_px_size =21  # 340 cm\n",
    "focal_l = 2.3 # 26 mm\n",
    "ball_size = 4.26 # \n",
    "ball_size_real = cal_dist(ball_size, focal_l, obj_px_size)\n",
    "print(ball_size_real)"
   ]
  },
  {
   "cell_type": "code",
   "execution_count": 9,
   "id": "40bac789",
   "metadata": {},
   "outputs": [
    {
     "name": "stdout",
     "output_type": "stream",
     "text": [
      "The total number of frames in this video is  60\n"
     ]
    }
   ],
   "source": [
    "import cv2\n",
    "path = \"data/check_fps/IMG_1765_ORG.MOV\"\n",
    "cap= cv2.VideoCapture(path)\n",
    "framespersecond= round(cap.get(cv2.CAP_PROP_FPS))\n",
    "print(\"The total number of frames in this video is \", framespersecond)"
   ]
  },
  {
   "cell_type": "code",
   "execution_count": null,
   "id": "d0417bbc",
   "metadata": {},
   "outputs": [],
   "source": []
  },
  {
   "cell_type": "code",
   "execution_count": null,
   "id": "8b73a529",
   "metadata": {},
   "outputs": [],
   "source": []
  },
  {
   "cell_type": "code",
   "execution_count": 13,
   "id": "35cc40de",
   "metadata": {},
   "outputs": [],
   "source": [
    "def get_angle(point_1, point_2): #These can also be four parameters instead of two arrays\n",
    "                        angle = math.atan2(point_1[1] - point_2[1], point_1[0] - point_2[0])\n",
    "                        angle = math.degrees(angle)\n",
    "                        return angle"
   ]
  },
  {
   "cell_type": "code",
   "execution_count": null,
   "id": "fd584b53",
   "metadata": {},
   "outputs": [],
   "source": []
  },
  {
   "cell_type": "code",
   "execution_count": 16,
   "id": "ac4b0671",
   "metadata": {},
   "outputs": [],
   "source": [
    "X, Y, Z =  149.36121934102766, 267.54735551741715, 733.6586735725332\n",
    "X2, Y2, Z2 =  225.72691610391453, 404.33949146339825, 1108.7651171372459\n",
    "X3, Y3, Z3 =  213.57092875072402, 358.1053948638733, 1072.44178412821\n",
    "point1 = X, Y, Z\n",
    "point2 = X2, Y2, Z2\n",
    "point3 = X3, Y3, Z3\n"
   ]
  },
  {
   "cell_type": "markdown",
   "id": "a19c1920",
   "metadata": {},
   "source": [
    "## X Y Z coordinates / from video x=z y=y z=x"
   ]
  },
  {
   "cell_type": "code",
   "execution_count": 16,
   "id": "f85f4c7b",
   "metadata": {},
   "outputs": [],
   "source": [
    "Z, Y, X =  188.48970421803293, 353.6078992174048, 957.1660072638006\n",
    "Z2, Y2, X2 =   199.6143559959489, 359.9210905200927, 1077.8793673562707\n",
    "Z3, Y3, X3 =  186.79340766602846, 324.326252956414, 1042.567856740624\n",
    "\n",
    "point1 = X, Y, Z\n",
    "point2 = X2, Y2, Z2\n",
    "point3 = X3, Y3, Z3"
   ]
  },
  {
   "cell_type": "code",
   "execution_count": 8,
   "id": "027dcf27",
   "metadata": {},
   "outputs": [],
   "source": [
    "Z, Y, X =  124.43526607696464, 233.4413606757871, 631.892374640917\n",
    "Z2, Y2, X2 =   199.6143559959489, 359.9210905200927, 1077.8793673562707\n",
    "Z3, Y3, X3 =   186.79340766602846, 324.326252956414, 1042.567856740624\n",
    "\n",
    "point1 = X, Y, Z\n",
    "point2 = X2, Y2, Z2\n",
    "point3 = X3, Y3, Z3"
   ]
  },
  {
   "cell_type": "markdown",
   "id": "c887ed21",
   "metadata": {},
   "source": [
    "## find AX BY CZ sides of the ptojectile trangle "
   ]
  },
  {
   "cell_type": "code",
   "execution_count": 9,
   "id": "5c9231cd",
   "metadata": {},
   "outputs": [
    {
     "name": "stdout",
     "output_type": "stream",
     "text": [
      "sx side 445.9869927153537\n",
      "sy side 126.47972984430561\n",
      "sz side 75.17908991898426\n"
     ]
    }
   ],
   "source": [
    "sx = X2 - X\n",
    "print('sx side', sx)\n",
    "\n",
    "sy = Y2 - Y\n",
    "print('sy side', sy)\n",
    "\n",
    "sz = Z2 - Z\n",
    "print('sz side', sz)"
   ]
  },
  {
   "cell_type": "markdown",
   "id": "f6cc55f0",
   "metadata": {},
   "source": [
    "# find angles opposite to a and b on XY field "
   ]
  },
  {
   "cell_type": "code",
   "execution_count": 10,
   "id": "e08ef555",
   "metadata": {},
   "outputs": [
    {
     "name": "stdout",
     "output_type": "stream",
     "text": [
      "15.83307705735999\n",
      "74.16692294264001\n"
     ]
    }
   ],
   "source": [
    "import math\n",
    "def find_ang(a,b):\n",
    "    tana = (a)/(b) \n",
    "    alfa_t_r = math.atan(tana)\n",
    "    alfa_t = math.degrees(alfa_t_r)\n",
    "    return alfa_t\n",
    "alfaY = find_ang(a=sy,b=sx)\n",
    "print(alfaY)\n",
    "alfaX = find_ang(a=sx,b=sy)\n",
    "print(alfaX)"
   ]
  },
  {
   "cell_type": "markdown",
   "id": "02eac06f",
   "metadata": {},
   "source": [
    "# find c next to a and b on XY field = distanceXY "
   ]
  },
  {
   "cell_type": "code",
   "execution_count": 11,
   "id": "ea5b2b28",
   "metadata": {},
   "outputs": [
    {
     "name": "stdout",
     "output_type": "stream",
     "text": [
      "c  463.5747186083097\n"
     ]
    }
   ],
   "source": [
    "def find_c(alfa, a):\n",
    "    alfa = math.radians(alfa)\n",
    "    c =  a/math.sin(alfa)\n",
    "    return c\n",
    "c = find_c(alfa = alfaY, a = sy)\n",
    "print('c ', c)"
   ]
  },
  {
   "cell_type": "markdown",
   "id": "2bc57a1f",
   "metadata": {},
   "source": [
    "# find angle oppostite to a on XY field "
   ]
  },
  {
   "cell_type": "code",
   "execution_count": 12,
   "id": "8c6ebfb1",
   "metadata": {},
   "outputs": [
    {
     "name": "stdout",
     "output_type": "stream",
     "text": [
      "15.833077057359967\n"
     ]
    }
   ],
   "source": [
    "import math\n",
    "def find_ang(a,b,c):\n",
    "    cosa = (b**2 + c**2 -a**2)/(2*b*c) # cosa = (b**2 + c**2 - a**2) / 2*b*c\n",
    "    alfa_r = math.acos(cosa)\n",
    "    alfa = math.degrees(alfa_r)\n",
    "    return alfa\n",
    "\n",
    "alfaY = find_ang(a=sy,b=sx,c=c)\n",
    "print(alfaY)\n",
    "\n"
   ]
  },
  {
   "cell_type": "markdown",
   "id": "1fab63fc",
   "metadata": {},
   "source": [
    "# find angles opposite to a and b sides on XZ field "
   ]
  },
  {
   "cell_type": "code",
   "execution_count": 13,
   "id": "b2cbfa77",
   "metadata": {},
   "outputs": [
    {
     "name": "stdout",
     "output_type": "stream",
     "text": [
      "9.5682778317739\n",
      "80.4317221682261\n"
     ]
    }
   ],
   "source": [
    "def find_ang(a,b):\n",
    "    tana = (a)/(b) \n",
    "    alfa_t_r = math.atan(tana)\n",
    "    alfa_t = math.degrees(alfa_t_r)\n",
    "    return alfa_t\n",
    "alfaZ = find_ang(a=sz,b=sx)\n",
    "print(alfaZ)\n",
    "alfaX = find_ang(a=sx,b=sz)\n",
    "print(alfaX)"
   ]
  },
  {
   "cell_type": "markdown",
   "id": "085cddbc",
   "metadata": {},
   "source": [
    "# find c next to a and b on X Z field = distance XZ"
   ]
  },
  {
   "cell_type": "code",
   "execution_count": 14,
   "id": "ecc098d9",
   "metadata": {},
   "outputs": [
    {
     "name": "stdout",
     "output_type": "stream",
     "text": [
      "c  452.27899932710966\n"
     ]
    }
   ],
   "source": [
    "def find_c(alfa, a):\n",
    "    alfa = math.radians(alfa)\n",
    "    c =  a/math.sin(alfa)\n",
    "    return c\n",
    "c = find_c(alfa = alfaZ, a = sz)\n",
    "print('c ', c)"
   ]
  },
  {
   "cell_type": "markdown",
   "id": "3f1e3582",
   "metadata": {},
   "source": [
    "# find 3d velocity vectors X Y Z"
   ]
  },
  {
   "cell_type": "code",
   "execution_count": 15,
   "id": "dd5ef428",
   "metadata": {},
   "outputs": [
    {
     "name": "stdout",
     "output_type": "stream",
     "text": [
      "a_dist  463.6\n",
      "velocity1  139.08\n",
      "alfa  15.8\n",
      "ax  446.0842618001767\n",
      "ay  126.22912252801028\n",
      "...................\n",
      "azx  457.1077627858861\n",
      "az  77.31399097758501\n"
     ]
    }
   ],
   "source": [
    "import math\n",
    "\n",
    "def make_vec(dist, alfa):\n",
    "    rad_alfa = math.radians(alfa)\n",
    "    ax = abs(a_dist * math.cos(rad_alfa))\n",
    "    ay = abs(a_dist * math.sin(rad_alfa))\n",
    "    return ax, ay\n",
    "a_dist = 463.6\n",
    "a_distz = 452.3\n",
    "alfa = 15.8\n",
    "alfaz = 9.6\n",
    "velocity1 =  a_dist / (1/30)/100\n",
    "ax , ay = make_vec(a_dist, alfa)\n",
    "azx , az = make_vec(a_dist, alfaz)\n",
    "\n",
    "print('a_dist ', a_dist)\n",
    "print('velocity1 ', velocity1)\n",
    "print('alfa ', alfa)\n",
    "print('ax ', ax)\n",
    "print('ay ', ay)\n",
    "print('...................')\n",
    "print('azx ', azx)\n",
    "print('az ', az)"
   ]
  },
  {
   "cell_type": "code",
   "execution_count": null,
   "id": "dd486462",
   "metadata": {},
   "outputs": [],
   "source": []
  }
 ],
 "metadata": {
  "kernelspec": {
   "display_name": "Python 3 (ipykernel)",
   "language": "python",
   "name": "python3"
  },
  "language_info": {
   "codemirror_mode": {
    "name": "ipython",
    "version": 3
   },
   "file_extension": ".py",
   "mimetype": "text/x-python",
   "name": "python",
   "nbconvert_exporter": "python",
   "pygments_lexer": "ipython3",
   "version": "3.9.12"
  }
 },
 "nbformat": 4,
 "nbformat_minor": 5
}
